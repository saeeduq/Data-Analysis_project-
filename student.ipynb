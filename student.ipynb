{
 "cells": [
  {
   "cell_type": "code",
   "execution_count": 14,
   "metadata": {},
   "outputs": [
    {
     "name": "stdout",
     "output_type": "stream",
     "text": [
      "<class 'pandas.core.frame.DataFrame'>\n",
      "RangeIndex: 1000 entries, 0 to 999\n",
      "Data columns (total 4 columns):\n",
      " #   Column         Non-Null Count  Dtype \n",
      "---  ------         --------------  ----- \n",
      " 0   gender         1000 non-null   object\n",
      " 1   math score     1000 non-null   int64 \n",
      " 2   reading score  1000 non-null   int64 \n",
      " 3   writing score  1000 non-null   int64 \n",
      "dtypes: int64(3), object(1)\n",
      "memory usage: 31.4+ KB\n"
     ]
    }
   ],
   "source": [
    "import pandas as pd\n",
    "df = pd.read_csv(\"Students_exams.csv\")\n",
    "df.info()"
   ]
  },
  {
   "cell_type": "code",
   "execution_count": 15,
   "metadata": {},
   "outputs": [],
   "source": [
    "df.rename(columns={\n",
    "    'math score':'math_score',\n",
    "    'reading score':'reading_score',\n",
    "    'writing score':'writing_score',\n",
    "\n",
    "\n",
    "\n",
    "\n",
    "},inplace=True \n",
    "\n",
    ")"
   ]
  },
  {
   "cell_type": "code",
   "execution_count": 16,
   "metadata": {},
   "outputs": [],
   "source": [
    "statics_df = pd.DataFrame(columns=['statics','math','reading', 'writing'])"
   ]
  },
  {
   "cell_type": "code",
   "execution_count": 17,
   "metadata": {},
   "outputs": [],
   "source": [
    "x=df['math_score'].count()\n",
    "y=df['reading_score'].count()\n",
    "z=df['writing_score'].count()\n",
    "row = {'statics':'Count', 'math':x, 'reading':y, 'writing':z}\n",
    "statics= pd.concat([statics_df, pd.DataFrame.from_records([row])],ignore_index=True)"
   ]
  },
  {
   "cell_type": "code",
   "execution_count": 18,
   "metadata": {},
   "outputs": [],
   "source": [
    "x = df['math_score'].min()\n",
    "y = df['reading_score'].min()\n",
    "z = df['writing_score'].min()\n",
    "\n",
    "row = {'statics':'Min', 'math':x, 'reading':y, 'writing':z}\n",
    "statics_df = pd.concat([statics_df, pd.DataFrame.from_records([row])], ignore_index=True)"
   ]
  },
  {
   "cell_type": "code",
   "execution_count": 19,
   "metadata": {},
   "outputs": [],
   "source": [
    "x = df['math_score'].max()\n",
    "y = df['reading_score'].max()\n",
    "z = df['writing_score'].max()\n",
    "\n",
    "row = {'statics':'Max', 'math':x, 'reading':y, 'writing':z}\n",
    "#statics_df = statics_df.append(row, ignore_index=True)\n",
    "statics_df = pd.concat([statics_df, pd.DataFrame.from_records([row])], ignore_index=True)"
   ]
  },
  {
   "cell_type": "code",
   "execution_count": 20,
   "metadata": {},
   "outputs": [],
   "source": [
    "x=df['math_score'].mean()\n",
    "y=df['reading_score'].mean()\n",
    "z=df['writing_score'].mean()\n",
    "row = {'statics':'mean', 'math':x, 'reading':y, 'writing':z}\n",
    "#statics_df = statics_df.append(row, ignore_index=True)\n",
    "statics= pd.concat([statics_df, pd.DataFrame.from_records([row])],ignore_index=True)"
   ]
  },
  {
   "cell_type": "code",
   "execution_count": 21,
   "metadata": {},
   "outputs": [],
   "source": [
    "x = df['math_score'].median()\n",
    "y = df['reading_score'].median()\n",
    "z = df['writing_score'].median()\n",
    "\n",
    "row = {'statics':'Median', 'math':x, 'reading':y, 'writing':z}\n",
    "#statics_df = statics_df.append(row, ignore_index=True)\n",
    "statics_df = pd.concat([statics_df, pd.DataFrame.from_records([row])], ignore_index=True)"
   ]
  },
  {
   "cell_type": "code",
   "execution_count": 22,
   "metadata": {},
   "outputs": [],
   "source": [
    "x = df['math_score'].std()# الانحراف المعياري \n",
    "y = df['reading_score'].std()\n",
    "z = df['writing_score'].std()\n",
    "\n",
    "row = {'statics':'Std', 'math':x, 'reading':y, 'writing':z}\n",
    "statics_df = pd.concat([statics_df, pd.DataFrame.from_records([row])], ignore_index=True)"
   ]
  },
  {
   "cell_type": "code",
   "execution_count": 23,
   "metadata": {},
   "outputs": [],
   "source": [
    "x = df['math_score'].mode()[0]\n",
    "y = df['reading_score'].mode()[0]\n",
    "z = df['writing_score'].mode()[0]\n",
    "\n",
    "row = {'statics':'Mode', 'math':x, 'reading':y, 'writing':z}\n",
    "statics_df = pd.concat([statics_df, pd.DataFrame.from_records([row])], ignore_index=True)"
   ]
  },
  {
   "cell_type": "code",
   "execution_count": 24,
   "metadata": {},
   "outputs": [
    {
     "data": {
      "text/html": [
       "<div>\n",
       "<style scoped>\n",
       "    .dataframe tbody tr th:only-of-type {\n",
       "        vertical-align: middle;\n",
       "    }\n",
       "\n",
       "    .dataframe tbody tr th {\n",
       "        vertical-align: top;\n",
       "    }\n",
       "\n",
       "    .dataframe thead th {\n",
       "        text-align: right;\n",
       "    }\n",
       "</style>\n",
       "<table border=\"1\" class=\"dataframe\">\n",
       "  <thead>\n",
       "    <tr style=\"text-align: right;\">\n",
       "      <th></th>\n",
       "      <th>statics</th>\n",
       "      <th>math</th>\n",
       "      <th>reading</th>\n",
       "      <th>writing</th>\n",
       "    </tr>\n",
       "  </thead>\n",
       "  <tbody>\n",
       "    <tr>\n",
       "      <th>0</th>\n",
       "      <td>Min</td>\n",
       "      <td>0</td>\n",
       "      <td>17</td>\n",
       "      <td>10</td>\n",
       "    </tr>\n",
       "    <tr>\n",
       "      <th>1</th>\n",
       "      <td>Max</td>\n",
       "      <td>100</td>\n",
       "      <td>100</td>\n",
       "      <td>100</td>\n",
       "    </tr>\n",
       "    <tr>\n",
       "      <th>2</th>\n",
       "      <td>Median</td>\n",
       "      <td>66.0</td>\n",
       "      <td>70.0</td>\n",
       "      <td>69.0</td>\n",
       "    </tr>\n",
       "    <tr>\n",
       "      <th>3</th>\n",
       "      <td>Std</td>\n",
       "      <td>15.16308</td>\n",
       "      <td>14.600192</td>\n",
       "      <td>15.195657</td>\n",
       "    </tr>\n",
       "    <tr>\n",
       "      <th>4</th>\n",
       "      <td>Mode</td>\n",
       "      <td>65</td>\n",
       "      <td>72</td>\n",
       "      <td>74</td>\n",
       "    </tr>\n",
       "  </tbody>\n",
       "</table>\n",
       "</div>"
      ],
      "text/plain": [
       "  statics      math    reading    writing\n",
       "0     Min         0         17         10\n",
       "1     Max       100        100        100\n",
       "2  Median      66.0       70.0       69.0\n",
       "3     Std  15.16308  14.600192  15.195657\n",
       "4    Mode        65         72         74"
      ]
     },
     "execution_count": 24,
     "metadata": {},
     "output_type": "execute_result"
    }
   ],
   "source": [
    "statics_df"
   ]
  }
 ],
 "metadata": {
  "kernelspec": {
   "display_name": "base",
   "language": "python",
   "name": "python3"
  },
  "language_info": {
   "codemirror_mode": {
    "name": "ipython",
    "version": 3
   },
   "file_extension": ".py",
   "mimetype": "text/x-python",
   "name": "python",
   "nbconvert_exporter": "python",
   "pygments_lexer": "ipython3",
   "version": "3.11.7"
  }
 },
 "nbformat": 4,
 "nbformat_minor": 2
}
